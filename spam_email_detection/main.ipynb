{
 "cells": [
  {
   "cell_type": "code",
   "execution_count": null,
   "id": "3dc9be30",
   "metadata": {},
   "outputs": [
    {
     "name": "stdout",
     "output_type": "stream",
     "text": [
      "First few rows:\n",
      "   label                                               text\n",
      "0      1  ounce feather bowl hummingbird opec moment ala...\n",
      "1      1  wulvob get your medircations online qnb ikud v...\n",
      "2      0   computer connection from cnn com wednesday es...\n",
      "3      1  university degree obtain a prosperous future m...\n",
      "4      0  thanks for all your answers guys i know i shou...\n",
      "\n",
      "Data Info:\n",
      "<class 'pandas.core.frame.DataFrame'>\n",
      "RangeIndex: 83448 entries, 0 to 83447\n",
      "Data columns (total 2 columns):\n",
      " #   Column  Non-Null Count  Dtype \n",
      "---  ------  --------------  ----- \n",
      " 0   label   83448 non-null  int64 \n",
      " 1   text    83448 non-null  object\n",
      "dtypes: int64(1), object(1)\n",
      "memory usage: 1.3+ MB\n",
      "None\n",
      "\n",
      "Columns: ['label', 'text']\n",
      "\n",
      "Preprocessing Complete!\n",
      "Training samples: 66758\n",
      "Testing samples: 16690\n"
     ]
    }
   ],
   "source": [
    "### Email Spam Detection Preprocessing.ipynb\n",
    "\n",
    "# 1. Import libraries\n",
    "import pandas as pd\n",
    "import numpy as np\n",
    "import re\n",
    "import string\n",
    "from sklearn.model_selection import train_test_split\n",
    "from sklearn.feature_extraction.text import TfidfVectorizer\n",
    "\n",
    "# 2. Load the dataset\n",
    "file_path = '/mnt/data/combined_data.csv'\n",
    "data = pd.read_csv(file_path)\n",
    "\n",
    "# 3. Quick look at the data\n",
    "print(\"First few rows:\")\n",
    "print(data.head())\n",
    "print(\"\\nData Info:\")\n",
    "print(data.info())\n",
    "\n",
    "# 4. Check columns\n",
    "print(\"\\nColumns:\", data.columns.tolist())\n",
    "\n",
    "# Assuming the columns are ['text', 'label']\n",
    "# If different, you can rename like this:\n",
    "# data.rename(columns={'your_text_column': 'text', 'your_label_column': 'label'}, inplace=True)\n",
    "\n",
    "# 5. Basic Cleaning Function\n",
    "def clean_text(text):\n",
    "    text = str(text).lower()                            # Lowercase\n",
    "    text = re.sub(r'<.*?>', '', text)                   # Remove HTML tags\n",
    "    text = re.sub(r'http\\S+', '', text)                 # Remove URLs\n",
    "    text = re.sub(r'[^\\w\\s]', '', text)                # Remove punctuation\n",
    "    text = re.sub(r'\\d+', '', text)                    # Remove numbers\n",
    "    text = re.sub(r'\\s+', ' ', text).strip()             # Remove extra spaces\n",
    "    return text\n",
    "\n",
    "# 6. Apply cleaning to the text data\n",
    "data['clean_text'] = data['text'].apply(clean_text)\n",
    "\n",
    "# 7. Feature Extraction (TF-IDF)\n",
    "vectorizer = TfidfVectorizer(max_features=3000)  # Limit to top 3000 features\n",
    "X = vectorizer.fit_transform(data['clean_text'])\n",
    "\n",
    "# 8. Target Variable\n",
    "y = data['label']\n",
    "\n",
    "# 9. Train-Test Split\n",
    "X_train, X_test, y_train, y_test = train_test_split(X, y, test_size=0.2, random_state=42)\n",
    "\n",
    "# 10. Save processed data (Optional)\n",
    "# from scipy import sparse\n",
    "# sparse.save_npz('/mnt/data/X_train.npz', X_train)\n",
    "# np.save('/mnt/data/y_train.npy', y_train)\n",
    "\n",
    "print(\"\\nPreprocessing Complete!\")\n",
    "print(f\"Training samples: {X_train.shape[0]}\")\n",
    "print(f\"Testing samples: {X_test.shape[0]}\")\n"
   ]
  },
  {
   "cell_type": "code",
   "execution_count": 3,
   "id": "3a5551bc",
   "metadata": {},
   "outputs": [
    {
     "name": "stdout",
     "output_type": "stream",
     "text": [
      "label\n",
      "1    43910\n",
      "0    39538\n",
      "Name: count, dtype: int64\n"
     ]
    }
   ],
   "source": [
    "print(data['label'].value_counts())\n"
   ]
  },
  {
   "cell_type": "code",
   "execution_count": 4,
   "id": "6be14dea",
   "metadata": {},
   "outputs": [
    {
     "name": "stdout",
     "output_type": "stream",
     "text": [
      "\n",
      "Accuracy: 0.9590173756740563\n",
      "Precision: 0.9641049240681087\n",
      "Recall: 0.9574954296160878\n",
      "F1 Score: 0.9607888099059849\n",
      "\n",
      "Classification Report:\n",
      "               precision    recall  f1-score   support\n",
      "\n",
      "           0       0.95      0.96      0.96      7938\n",
      "           1       0.96      0.96      0.96      8752\n",
      "\n",
      "    accuracy                           0.96     16690\n",
      "   macro avg       0.96      0.96      0.96     16690\n",
      "weighted avg       0.96      0.96      0.96     16690\n",
      "\n",
      "\n",
      "Confusion Matrix:\n",
      " [[7626  312]\n",
      " [ 372 8380]]\n"
     ]
    }
   ],
   "source": [
    "# 1. Import classifier\n",
    "from sklearn.naive_bayes import MultinomialNB\n",
    "from sklearn.metrics import accuracy_score, precision_score, recall_score, f1_score, classification_report, confusion_matrix\n",
    "\n",
    "# 2. Initialize and train the model\n",
    "model = MultinomialNB()\n",
    "model.fit(X_train, y_train)\n",
    "\n",
    "# 3. Predict on test data\n",
    "y_pred = model.predict(X_test)\n",
    "\n",
    "# 4. Evaluate\n",
    "print(\"\\nAccuracy:\", accuracy_score(y_test, y_pred))\n",
    "print(\"Precision:\", precision_score(y_test, y_pred))\n",
    "print(\"Recall:\", recall_score(y_test, y_pred))\n",
    "print(\"F1 Score:\", f1_score(y_test, y_pred))\n",
    "\n",
    "print(\"\\nClassification Report:\\n\", classification_report(y_test, y_pred))\n",
    "print(\"\\nConfusion Matrix:\\n\", confusion_matrix(y_test, y_pred))\n"
   ]
  },
  {
   "cell_type": "code",
   "execution_count": 5,
   "id": "1d3ea805",
   "metadata": {},
   "outputs": [
    {
     "name": "stdout",
     "output_type": "stream",
     "text": [
      "\n",
      "=== Logistic Regression ===\n",
      "Accuracy: 0.9802875973636909\n",
      "Precision: 0.9758219410236132\n",
      "Recall: 0.9868601462522852\n",
      "F1 Score: 0.9813100039765948\n",
      "\n",
      "=== Random Forest ===\n",
      "Accuracy: 0.9846015578190533\n",
      "Precision: 0.978375943236851\n",
      "Recall: 0.992573126142596\n",
      "F1 Score: 0.9854234019624525\n",
      "\n",
      "=== Linear SVM ===\n",
      "Accuracy: 0.9828639904134212\n",
      "Precision: 0.9812414733969986\n",
      "Recall: 0.9861745886654479\n",
      "F1 Score: 0.9837018463642581\n"
     ]
    }
   ],
   "source": [
    "from sklearn.linear_model import LogisticRegression\n",
    "from sklearn.ensemble import RandomForestClassifier\n",
    "from sklearn.svm import LinearSVC\n",
    "\n",
    "# Initialize models\n",
    "models = {\n",
    "    \"Logistic Regression\": LogisticRegression(max_iter=1000),\n",
    "    \"Random Forest\": RandomForestClassifier(n_estimators=100),\n",
    "    \"Linear SVM\": LinearSVC()\n",
    "}\n",
    "\n",
    "# Train, Predict and Evaluate\n",
    "for name, clf in models.items():\n",
    "    print(f\"\\n=== {name} ===\")\n",
    "    clf.fit(X_train, y_train)\n",
    "    y_pred = clf.predict(X_test)\n",
    "    print(\"Accuracy:\", accuracy_score(y_test, y_pred))\n",
    "    print(\"Precision:\", precision_score(y_test, y_pred))\n",
    "    print(\"Recall:\", recall_score(y_test, y_pred))\n",
    "    print(\"F1 Score:\", f1_score(y_test, y_pred))\n"
   ]
  },
  {
   "cell_type": "code",
   "execution_count": null,
   "id": "366d35f2",
   "metadata": {},
   "outputs": [
    {
     "name": "stdout",
     "output_type": "stream",
     "text": [
      "Model and vectorizer saved!\n"
     ]
    }
   ],
   "source": [
    "import pickle\n",
    "# Save the model\n",
    "with open('spam_classifier_model.pkl', 'wb') as f:\n",
    "    pickle.dump(model, f)\n",
    "\n",
    "# Save the vectorizer\n",
    "with open('tfidf_vectorizer.pkl', 'wb') as f:\n",
    "    pickle.dump(vectorizer, f)\n",
    "\n",
    "print(\"Model and vectorizer saved!\")\n"
   ]
  }
 ],
 "metadata": {
  "kernelspec": {
   "display_name": "venv",
   "language": "python",
   "name": "python3"
  },
  "language_info": {
   "codemirror_mode": {
    "name": "ipython",
    "version": 3
   },
   "file_extension": ".py",
   "mimetype": "text/x-python",
   "name": "python",
   "nbconvert_exporter": "python",
   "pygments_lexer": "ipython3",
   "version": "3.12.10"
  }
 },
 "nbformat": 4,
 "nbformat_minor": 5
}
